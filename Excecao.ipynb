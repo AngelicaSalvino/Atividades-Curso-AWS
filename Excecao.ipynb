{
  "nbformat": 4,
  "nbformat_minor": 0,
  "metadata": {
    "colab": {
      "provenance": [],
      "authorship_tag": "ABX9TyMFSxe0fTaYdgH5jL58yDNw",
      "include_colab_link": true
    },
    "kernelspec": {
      "name": "python3",
      "display_name": "Python 3"
    },
    "language_info": {
      "name": "python"
    }
  },
  "cells": [
    {
      "cell_type": "markdown",
      "metadata": {
        "id": "view-in-github",
        "colab_type": "text"
      },
      "source": [
        "<a href=\"https://colab.research.google.com/github/AngelicaSalvino/CursoAWS/blob/main/Excecao.ipynb\" target=\"_parent\"><img src=\"https://colab.research.google.com/assets/colab-badge.svg\" alt=\"Open In Colab\"/></a>"
      ]
    },
    {
      "cell_type": "markdown",
      "source": [
        "Desenvolva um programa que recebe do usuário nome completo e ano de nascimento que seja entre 1922 e 2021.\n",
        "A partir dessas informações, o sistema mostrará o nome do usuário e a idade que completou, ou completará, no ano atual (2022).\n",
        "\n",
        "Caso o usuário não digite um número ou apareça um inválido no campo do ano, o sistema informará o erro e continuará perguntando até que um valor correto seja preenchido."
      ],
      "metadata": {
        "id": "2TxJZ4-RVpFR"
      }
    },
    {
      "cell_type": "code",
      "source": [
        "import datetime\n",
        "\n",
        "def calc_idade(ano_nascimento):\n",
        "    ano_atual = datetime.datetime.now().year\n",
        "    return ano_atual - ano_nascimento\n",
        "\n",
        "def main():\n",
        "    while True:\n",
        "        nome = input(\"Digite o seu nome completo:\")\n",
        "\n",
        "        while True:\n",
        "            try:\n",
        "                ano_nascimento = int(input(\"Digite o seu ano de nascimento (1922 a 2021): \"))\n",
        "                if 1922 <= ano_nascimento <= 2021:\n",
        "                    break\n",
        "                else:\n",
        "                    print(\"Ano de nascimento fora do intervalo válido.\")\n",
        "            except ValueError:\n",
        "                print(\"Ano de nascimento deve ser um número válido.\")\n",
        "\n",
        "        idade = calc_idade(ano_nascimento)\n",
        "\n",
        "        print(f\"Nome: {nome}\")\n",
        "        print(f\"Idade em 2022: {idade} anos\")\n",
        "\n",
        "        continuar = input(\"Deseja calcular a idade para outra pessoa? (S/N): \").strip().lower()\n",
        "        if continuar != 's':\n",
        "            break\n",
        "\n",
        "if __name__ == '__main__':\n",
        "    main()\n",
        "\n"
      ],
      "metadata": {
        "colab": {
          "base_uri": "https://localhost:8080/"
        },
        "id": "7CKO7EXkVnEJ",
        "outputId": "632ebb25-9961-4f19-ae2f-aa5750e0f38d"
      },
      "execution_count": 6,
      "outputs": [
        {
          "name": "stdout",
          "output_type": "stream",
          "text": [
            "Digite o seu nome completo:Alana\n",
            "Digite o seu ano de nascimento (1922 a 2021): 2022\n",
            "Ano de nascimento fora do intervalo válido.\n",
            "Digite o seu ano de nascimento (1922 a 2021): 2020\n",
            "Nome: Alana\n",
            "Idade em 2022: 3 anos\n",
            "Deseja calcular a idade para outra pessoa? (S/N): S\n",
            "Digite o seu nome completo:Karla Juvenalva\n",
            "Digite o seu ano de nascimento (1922 a 2021): 1988\n",
            "Nome: Karla Juvenalva\n",
            "Idade em 2022: 35 anos\n",
            "Deseja calcular a idade para outra pessoa? (S/N): N\n"
          ]
        }
      ]
    }
  ]
}