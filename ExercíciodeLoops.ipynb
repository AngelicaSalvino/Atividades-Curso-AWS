{
  "nbformat": 4,
  "nbformat_minor": 0,
  "metadata": {
    "colab": {
      "provenance": [],
      "authorship_tag": "ABX9TyMEtr2KOJNPhXwM50MuKY61",
      "include_colab_link": true
    },
    "kernelspec": {
      "name": "python3",
      "display_name": "Python 3"
    },
    "language_info": {
      "name": "python"
    }
  },
  "cells": [
    {
      "cell_type": "markdown",
      "metadata": {
        "id": "view-in-github",
        "colab_type": "text"
      },
      "source": [
        "<a href=\"https://colab.research.google.com/github/AngelicaSalvino/CursoAWS/blob/main/Exerc%C3%ADciodeLoops.ipynb\" target=\"_parent\"><img src=\"https://colab.research.google.com/assets/colab-badge.svg\" alt=\"Open In Colab\"/></a>"
      ]
    },
    {
      "cell_type": "markdown",
      "source": [
        "Atividade sobre Loop:\n",
        "\n",
        "Precisamos imprimir um número para cada andar de um hotel de 20 andares. Porém, o dono do hotel é supersticioso e optou por não ter um 13ro andar.\n",
        "\n",
        "Escreva um código que imprima todos os números exceto o número 13.\n",
        "Escreva mais dois códigos que resolvam o mesmo problema, mas dessa vez usando os outros dois tipos de laços de repetição aprendidos.\n",
        "\n",
        "Como desafio, imprima eles em ordem decrescente (20, 19, 18...)"
      ],
      "metadata": {
        "id": "VAAXx4c4jQCZ"
      }
    },
    {
      "cell_type": "code",
      "execution_count": 6,
      "metadata": {
        "colab": {
          "base_uri": "https://localhost:8080/"
        },
        "id": "bZOHUawJhlJU",
        "outputId": "0c083d48-5b70-4532-fcd4-602a8f7bef51"
      },
      "outputs": [
        {
          "output_type": "stream",
          "name": "stdout",
          "text": [
            "Andar 1\n",
            "Andar 2\n",
            "Andar 3\n",
            "Andar 4\n",
            "Andar 5\n",
            "Andar 6\n",
            "Andar 7\n",
            "Andar 8\n",
            "Andar 9\n",
            "Andar 10\n",
            "Andar 11\n",
            "Andar 12\n",
            "Andar 14\n",
            "Andar 15\n",
            "Andar 16\n",
            "Andar 17\n",
            "Andar 18\n",
            "Andar 19\n",
            "Andar 20\n"
          ]
        }
      ],
      "source": [
        "# Usando o for para imprimir cada andar\n",
        "\n",
        "for andar in range(1, 21):\n",
        "    if andar != 13:\n",
        "        print(\"Andar\", andar)"
      ]
    },
    {
      "cell_type": "code",
      "source": [
        "# Usando While\n",
        "\n",
        "  andar = 1\n",
        "\n",
        "while andar <= 20:\n",
        "    if andar != 13:\n",
        "        print(\"Andar\", andar)\n",
        "    andar += 1"
      ],
      "metadata": {
        "colab": {
          "base_uri": "https://localhost:8080/"
        },
        "id": "lDgefmYqh-jB",
        "outputId": "dcf83dfa-7d00-40d0-b1fa-89e0fd95d0cd"
      },
      "execution_count": 7,
      "outputs": [
        {
          "output_type": "stream",
          "name": "stdout",
          "text": [
            "Andar 1\n",
            "Andar 2\n",
            "Andar 3\n",
            "Andar 4\n",
            "Andar 5\n",
            "Andar 6\n",
            "Andar 7\n",
            "Andar 8\n",
            "Andar 9\n",
            "Andar 10\n",
            "Andar 11\n",
            "Andar 12\n",
            "Andar 14\n",
            "Andar 15\n",
            "Andar 16\n",
            "Andar 17\n",
            "Andar 18\n",
            "Andar 19\n",
            "Andar 20\n"
          ]
        }
      ]
    },
    {
      "cell_type": "code",
      "source": [
        "# Usando continue para pular o 13º andar\n",
        "\n",
        "for andar in range(1, 21):\n",
        "    if andar == 13:\n",
        "        continue\n",
        "    print(\"Andar\", andar)"
      ],
      "metadata": {
        "colab": {
          "base_uri": "https://localhost:8080/"
        },
        "id": "1vCF8_Ykjlt0",
        "outputId": "525dd42f-509a-48b2-f851-06ad81a7e772"
      },
      "execution_count": 8,
      "outputs": [
        {
          "output_type": "stream",
          "name": "stdout",
          "text": [
            "Andar 1\n",
            "Andar 2\n",
            "Andar 3\n",
            "Andar 4\n",
            "Andar 5\n",
            "Andar 6\n",
            "Andar 7\n",
            "Andar 8\n",
            "Andar 9\n",
            "Andar 10\n",
            "Andar 11\n",
            "Andar 12\n",
            "Andar 14\n",
            "Andar 15\n",
            "Andar 16\n",
            "Andar 17\n",
            "Andar 18\n",
            "Andar 19\n",
            "Andar 20\n"
          ]
        }
      ]
    },
    {
      "cell_type": "code",
      "source": [
        "for andar in range(20, 0, -1):\n",
        "    if andar != 13:\n",
        "        print(\"Andar\", andar)"
      ],
      "metadata": {
        "colab": {
          "base_uri": "https://localhost:8080/"
        },
        "id": "RN7DSNKukMZ3",
        "outputId": "be609864-a2a6-4c4e-c648-9df6cd757dba"
      },
      "execution_count": 11,
      "outputs": [
        {
          "output_type": "stream",
          "name": "stdout",
          "text": [
            "Andar 20\n",
            "Andar 19\n",
            "Andar 18\n",
            "Andar 17\n",
            "Andar 16\n",
            "Andar 15\n",
            "Andar 14\n",
            "Andar 12\n",
            "Andar 11\n",
            "Andar 10\n",
            "Andar 9\n",
            "Andar 8\n",
            "Andar 7\n",
            "Andar 6\n",
            "Andar 5\n",
            "Andar 4\n",
            "Andar 3\n",
            "Andar 2\n",
            "Andar 1\n"
          ]
        }
      ]
    },
    {
      "cell_type": "code",
      "source": [
        "andar = 20\n",
        "\n",
        "while andar >= 1:\n",
        "    if andar != 13:\n",
        "        print(\"Andar\", andar)\n",
        "    andar -= 1"
      ],
      "metadata": {
        "colab": {
          "base_uri": "https://localhost:8080/"
        },
        "id": "NDnrjo3DkX9c",
        "outputId": "c87cc416-76b2-401d-c7b4-c759b49709f7"
      },
      "execution_count": 15,
      "outputs": [
        {
          "output_type": "stream",
          "name": "stdout",
          "text": [
            "Andar 20\n",
            "Andar 19\n",
            "Andar 18\n",
            "Andar 17\n",
            "Andar 16\n",
            "Andar 15\n",
            "Andar 14\n",
            "Andar 12\n",
            "Andar 11\n",
            "Andar 10\n",
            "Andar 9\n",
            "Andar 8\n",
            "Andar 7\n",
            "Andar 6\n",
            "Andar 5\n",
            "Andar 4\n",
            "Andar 3\n",
            "Andar 2\n",
            "Andar 1\n"
          ]
        }
      ]
    },
    {
      "cell_type": "code",
      "source": [
        "for andar in range(20, 0, -1):\n",
        "    if andar == 13:\n",
        "        continue\n",
        "    print(\"Andar\", andar)"
      ],
      "metadata": {
        "colab": {
          "base_uri": "https://localhost:8080/"
        },
        "id": "R9v3gWd7koKf",
        "outputId": "185874a0-6f11-4d81-dec1-fd6eebc046c0"
      },
      "execution_count": 16,
      "outputs": [
        {
          "output_type": "stream",
          "name": "stdout",
          "text": [
            "Andar 20\n",
            "Andar 19\n",
            "Andar 18\n",
            "Andar 17\n",
            "Andar 16\n",
            "Andar 15\n",
            "Andar 14\n",
            "Andar 12\n",
            "Andar 11\n",
            "Andar 10\n",
            "Andar 9\n",
            "Andar 8\n",
            "Andar 7\n",
            "Andar 6\n",
            "Andar 5\n",
            "Andar 4\n",
            "Andar 3\n",
            "Andar 2\n",
            "Andar 1\n"
          ]
        }
      ]
    }
  ]
}