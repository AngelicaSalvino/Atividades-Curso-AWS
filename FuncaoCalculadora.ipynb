{
  "nbformat": 4,
  "nbformat_minor": 0,
  "metadata": {
    "colab": {
      "provenance": [],
      "authorship_tag": "ABX9TyN12oHFhklZ4MCxd6mMTedJ",
      "include_colab_link": true
    },
    "kernelspec": {
      "name": "python3",
      "display_name": "Python 3"
    },
    "language_info": {
      "name": "python"
    }
  },
  "cells": [
    {
      "cell_type": "markdown",
      "metadata": {
        "id": "view-in-github",
        "colab_type": "text"
      },
      "source": [
        "<a href=\"https://colab.research.google.com/github/AngelicaSalvino/CursoAWS/blob/main/FuncaoCalculadora.ipynb\" target=\"_parent\"><img src=\"https://colab.research.google.com/assets/colab-badge.svg\" alt=\"Open In Colab\"/></a>"
      ]
    },
    {
      "cell_type": "markdown",
      "source": [
        "FUNÇÃO CALCULADORA\n",
        "\n",
        "Faça uma função calculadora que os números e as operações serão feitas pelo usuário. O código deve ficar rodando infinitamente até que o usuário escolha a opção de sair. No início, o programa mostrará a seguinte lista de operações:\n",
        "\n",
        "1: Soma\n",
        "2: Subtração\n",
        "3: Multiplicação\n",
        "4: Divisão\n",
        "0: Sair\n",
        "\n",
        "Digite o número para a operação correspondente e caso o usuário introduza qualquer outro, o sistema deve mostrar a mensagem “Essa opção não existe” e voltar ao menu de opções.\n",
        "\n",
        "Após a seleção, o sistema deve pedir para o usuário inserir o primeiro e segundo valor, um de cada. Depois precisa executar a operação e mostrar o resultado na tela. Quando o usuário escolher a opção “Sair”, o sistema irá parar.\n",
        "\n",
        "É necessário que o sistema mostre as opções sempre que finalizar uma operação e mostrar o resultado."
      ],
      "metadata": {
        "id": "22w8wTX1Lrfz"
      }
    },
    {
      "cell_type": "code",
      "execution_count": 6,
      "metadata": {
        "colab": {
          "base_uri": "https://localhost:8080/"
        },
        "id": "T9Vi-JkTLpDY",
        "outputId": "22acbff9-fd26-4822-8c22-29d562553fe5"
      },
      "outputs": [
        {
          "output_type": "stream",
          "name": "stdout",
          "text": [
            "Escolha uma operação:\n",
            "1: Soma\n",
            "2: Subtração\n",
            "3: Multiplicação\n",
            "4: Divisão\n",
            "0: Sair\n",
            "Digite o número da operação desejada: 1\n",
            "Digite o primeiro valor: 2\n",
            "Digite o segundo valor: 5\n",
            "Resultado da Soma: 7.0\n",
            "Escolha uma operação:\n",
            "1: Soma\n",
            "2: Subtração\n",
            "3: Multiplicação\n",
            "4: Divisão\n",
            "0: Sair\n",
            "Digite o número da operação desejada: 0\n",
            "Saindo da calculadora. Até logo!\n"
          ]
        }
      ],
      "source": [
        "def calculadora():\n",
        "    while True:\n",
        "        print(\"Escolha uma operação:\")\n",
        "        print(\"1: Soma\")\n",
        "        print(\"2: Subtração\")\n",
        "        print(\"3: Multiplicação\")\n",
        "        print(\"4: Divisão\")\n",
        "        print(\"0: Sair\")\n",
        "\n",
        "        opcao = input(\"Digite o número da operação desejada: \")\n",
        "\n",
        "        if opcao == '0':\n",
        "            print(\"Saindo da calculadora. Até logo!\")\n",
        "            break\n",
        "        elif opcao in ['1', '2', '3', '4']:\n",
        "            num1 = float(input(\"Digite o primeiro valor: \"))\n",
        "            num2 = float(input(\"Digite o segundo valor: \"))\n",
        "\n",
        "            if opcao == '1':\n",
        "                resultado = num1 + num2\n",
        "                print(\"Resultado da Soma:\", resultado)\n",
        "            elif opcao == '2':\n",
        "                resultado = num1 - num2\n",
        "                print(\"Resultado da Subtração:\", resultado)\n",
        "            elif opcao == '3':\n",
        "                resultado = num1 * num2\n",
        "                print(\"Resultado da Multiplicação:\", resultado)\n",
        "            elif opcao == '4':\n",
        "                if num2 != 0:\n",
        "                    resultado = num1 / num2\n",
        "                    print(\"Resultado da Divisão:\", resultado)\n",
        "                else:\n",
        "                    print(\"Erro: Divisão por zero.\")\n",
        "        else:\n",
        "            print(\"Essa opção não existe. Tente novamente.\")\n",
        "\n",
        "if __name__ == '__main__':\n",
        "    calculadora()\n"
      ]
    }
  ]
}