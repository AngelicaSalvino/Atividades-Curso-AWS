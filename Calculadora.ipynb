{
  "nbformat": 4,
  "nbformat_minor": 0,
  "metadata": {
    "colab": {
      "provenance": [],
      "authorship_tag": "ABX9TyMDqPdJ4Rpa1rCfzDDMOeAM",
      "include_colab_link": true
    },
    "kernelspec": {
      "name": "python3",
      "display_name": "Python 3"
    },
    "language_info": {
      "name": "python"
    }
  },
  "cells": [
    {
      "cell_type": "markdown",
      "metadata": {
        "id": "view-in-github",
        "colab_type": "text"
      },
      "source": [
        "<a href=\"https://colab.research.google.com/github/AngelicaSalvino/CursoAWS/blob/main/Calculadora.ipynb\" target=\"_parent\"><img src=\"https://colab.research.google.com/assets/colab-badge.svg\" alt=\"Open In Colab\"/></a>"
      ]
    },
    {
      "cell_type": "code",
      "execution_count": null,
      "metadata": {
        "id": "RZ3MPkxyDhU0"
      },
      "outputs": [],
      "source": []
    },
    {
      "cell_type": "markdown",
      "source": [
        "CRIANDO UMA CALCULADORA EM PYTHON\n",
        "\n",
        "Faça uma função calculadora de dois números com três parâmetros: os dois primeiros serão os números da operação e o terceiro será a entrada que definirá a operação a ser executada. Considera a seguinte definição:\n",
        "1. Soma\n",
        "2. Subtração\n",
        "3. Multiplicação\n",
        "4. Divisão\n",
        "\n",
        "Caso seja inserido um número de operação que não exista, o resultado deverá ser 0."
      ],
      "metadata": {
        "id": "nJlLefSNDnI1"
      }
    },
    {
      "cell_type": "code",
      "source": [
        "def calculadora(num1, num2, operacao):\n",
        "  if operacao == 'Soma':\n",
        "    return num1 + num2\n",
        "  elif operacao == 'Subtracao':\n",
        "    return num1 - num2\n",
        "  elif operacao == 'Multiplicacao':\n",
        "    return num1 * num2\n",
        "  elif operacao == 'Divisao':\n",
        "    if num2 != 0:\n",
        "      return num1/num2\n",
        "    else:\n",
        "      return 0\n",
        "  else:\n",
        "    return 0\n",
        "\n",
        "num1 = int(input(\"Informe o primeiro número:\"))\n",
        "num2 = int(input(\"Informe o segundo número:\"))\n",
        "operacao = input(\"Escreva a operacao desejada: Soma, Subtracao, Multiplicacao, Divisao\")\n",
        "resultado = calculadora(num1, num2, operacao)\n",
        "print(\"O Resultado é: \", resultado)\n",
        "\n"
      ],
      "metadata": {
        "colab": {
          "base_uri": "https://localhost:8080/"
        },
        "id": "oVZartlaDuGN",
        "outputId": "e399791b-8fa2-4b41-abec-e50b4ad2e420"
      },
      "execution_count": 7,
      "outputs": [
        {
          "output_type": "stream",
          "name": "stdout",
          "text": [
            "Informe o primeiro número:10\n",
            "Informe o segundo número:2\n",
            "Escreva a operacao desejada: Soma, Subtracao, Multiplicacao, DivisaoMultiplicacao\n",
            "O Resultado é:  20\n"
          ]
        }
      ]
    }
  ]
}