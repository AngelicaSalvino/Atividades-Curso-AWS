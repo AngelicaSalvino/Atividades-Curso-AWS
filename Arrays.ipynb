{
  "nbformat": 4,
  "nbformat_minor": 0,
  "metadata": {
    "colab": {
      "provenance": [],
      "authorship_tag": "ABX9TyO9pPesYh3Kxc6rELYW5CcC",
      "include_colab_link": true
    },
    "kernelspec": {
      "name": "python3",
      "display_name": "Python 3"
    },
    "language_info": {
      "name": "python"
    }
  },
  "cells": [
    {
      "cell_type": "markdown",
      "metadata": {
        "id": "view-in-github",
        "colab_type": "text"
      },
      "source": [
        "<a href=\"https://colab.research.google.com/github/AngelicaSalvino/CursoAWS/blob/main/Arrays.ipynb\" target=\"_parent\"><img src=\"https://colab.research.google.com/assets/colab-badge.svg\" alt=\"Open In Colab\"/></a>"
      ]
    },
    {
      "cell_type": "markdown",
      "source": [
        "# ARRAYS\n",
        "\n",
        "\n",
        "Declare dois arrays, cada um com um mínimo de cinco elementos, e imprima eles no terminal usando o comando print(). O primeiro array deve conter os produtos de uma loja da sua escolha (loja de comida, materiais de construção, música, etc). O segundo array deve conter os anos de nascimento de familiares e amigos seus. Lembre-se de usar nomes descritivos para nomear cada variável, e de usar o tipo de dado apropriado para cada lista (strings, booleanos, números inteiros, floats)."
      ],
      "metadata": {
        "id": "gE4W-O788hON"
      }
    },
    {
      "cell_type": "code",
      "execution_count": 3,
      "metadata": {
        "colab": {
          "base_uri": "https://localhost:8080/"
        },
        "id": "7jIAGwki8flo",
        "outputId": "4d4ad52a-f828-4681-e654-67b749fe3b6f"
      },
      "outputs": [
        {
          "output_type": "stream",
          "name": "stdout",
          "text": [
            "['arroz', 'feijao', 'tomate', 'sal', 'pimenta']\n",
            "<class 'list'>\n"
          ]
        }
      ],
      "source": [
        "# Lista de Produtos\n",
        "\n",
        "lista_produtos = ['arroz','feijao','tomate','sal','pimenta']\n",
        "print(lista_produtos)\n",
        "print(type(lista_produtos))"
      ]
    },
    {
      "cell_type": "code",
      "source": [
        "# Ano de nascimento\n",
        "\n",
        "ano_nascimento = [ 1988 , 2000 , 1996 , 1950 , 1964 ]\n",
        "print(ano_nascimento)"
      ],
      "metadata": {
        "colab": {
          "base_uri": "https://localhost:8080/"
        },
        "id": "Uu1DhszZ9KYe",
        "outputId": "1964e62d-5f9d-4da8-883b-b104ffc10051"
      },
      "execution_count": 2,
      "outputs": [
        {
          "output_type": "stream",
          "name": "stdout",
          "text": [
            "[1988, 2000, 1996, 1950, 1964]\n"
          ]
        }
      ]
    }
  ]
}